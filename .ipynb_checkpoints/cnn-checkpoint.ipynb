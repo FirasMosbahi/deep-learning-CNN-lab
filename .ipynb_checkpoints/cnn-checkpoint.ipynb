{
 "cells": [
  {
   "metadata": {},
   "cell_type": "markdown",
   "source": "# Imports",
   "id": "8ce2642e12755aaa"
  },
  {
   "cell_type": "code",
   "id": "initial_id",
   "metadata": {
    "collapsed": true,
    "ExecuteTime": {
     "end_time": "2024-04-20T16:10:18.737836Z",
     "start_time": "2024-04-20T16:10:18.732473Z"
    }
   },
   "source": [
    "import numpy as np\n",
    "from keras.datasets import mnist\n",
    "from keras import utils as np_utils\n",
    "\n",
    "from keras import backend as K\n",
    "K.set_image_data_format('channels_first')\n",
    "\n",
    "#fix random seed for reproducibility\n",
    "seed = 7\n",
    "np.random.seed(seed)\n",
    "from keras.models import Sequential\n",
    "from keras.layers import Dense\n",
    "from keras.layers import Dropout\n",
    "from keras.layers import Flatten\n",
    "from keras.layers import Conv2D\n",
    "from keras.layers import MaxPooling2D"
   ],
   "outputs": [],
   "execution_count": 6
  },
  {
   "metadata": {},
   "cell_type": "markdown",
   "source": "# get data minist function",
   "id": "8187e9139d2b5495"
  },
  {
   "metadata": {
    "ExecuteTime": {
     "end_time": "2024-04-20T16:10:18.802226Z",
     "start_time": "2024-04-20T16:10:18.797489Z"
    }
   },
   "cell_type": "code",
   "source": [
    "def get_data_minist():\n",
    "  #load data\n",
    "  (X_train, y_train),(X_test, y_test)= mnist.load_data()\n",
    "\n",
    "  # reshape to be [samples][pixels][width][height]\n",
    "  X_train = X_train.reshape(X_train.shape[0], 1, 28,28).astype('float32')\n",
    "  X_test = X_test.reshape(X_test.shape[0], 1, 28, 28).astype('float32')\n",
    "\n",
    "  #one hot encode outputs\n",
    "  y_train = np_utils.to_categorical(y_train)\n",
    "  y_test = np_utils.to_categorical(y_test)\n",
    "  num_classes = y_test.shape[1]\n",
    "\n",
    "  return (X_train, y_train), (X_test, y_test), num_classes"
   ],
   "id": "cbe6333e43cd1454",
   "outputs": [],
   "execution_count": 7
  },
  {
   "metadata": {},
   "cell_type": "markdown",
   "source": "# model evaluation function",
   "id": "3b1658bd3d3dabf8"
  },
  {
   "metadata": {
    "ExecuteTime": {
     "end_time": "2024-04-20T16:10:18.814303Z",
     "start_time": "2024-04-20T16:10:18.810874Z"
    }
   },
   "cell_type": "code",
   "source": [
    "def print_model_error_rate(model, X_test, y_test):\n",
    "  # Final evaluation of the model\n",
    "  scores = model.evaluate(X_test, y_test, verbose=0)\n",
    "  print(\"Model score : %.2f%%\" % (scores[1]*100))\n",
    "  print(\"Model error rate : %.2f%%\" % (100-scores[1]*100))"
   ],
   "id": "9226c66851e6e784",
   "outputs": [],
   "execution_count": 8
  },
  {
   "metadata": {},
   "cell_type": "markdown",
   "source": "# small model",
   "id": "76d0a4e1cc52b824"
  },
  {
   "metadata": {},
   "cell_type": "markdown",
   "source": "## model definition",
   "id": "f9cccb16eea16d94"
  },
  {
   "metadata": {
    "ExecuteTime": {
     "end_time": "2024-04-20T16:10:18.829360Z",
     "start_time": "2024-04-20T16:10:18.823859Z"
    }
   },
   "cell_type": "code",
   "source": [
    "def small_model():\n",
    "    # create model\n",
    "    model = Sequential()\n",
    "    model.add(Conv2D(64, (3, 3), input_shape=(1, 28, 28), activation='relu'))\n",
    "    model.add(Conv2D(32, (3, 3), activation='relu'))\n",
    "    model.add(Flatten())\n",
    "    model.add(Dense(num_classes, activation='softmax'))\n",
    "    # Compile model\n",
    "    model.compile(loss='categorical_crossentropy', optimizer='adam', metrics=['accuracy'])\n",
    "    return model"
   ],
   "id": "86afff929b5097df",
   "outputs": [],
   "execution_count": 9
  },
  {
   "metadata": {},
   "cell_type": "markdown",
   "source": "## model training",
   "id": "f842b1d7bbbb88c3"
  },
  {
   "metadata": {
    "jupyter": {
     "is_executing": true
    },
    "ExecuteTime": {
     "start_time": "2024-04-20T16:10:18.842307Z"
    }
   },
   "cell_type": "code",
   "source": [
    "(X_train, y_train), (X_test, y_test), num_classes = get_data_minist()\n",
    "smallModel = small_model()\n",
    "smallModel.fit(X_train, y_train, validation_data=(X_test, y_test), epochs=10, batch_size=200)"
   ],
   "id": "577f1b3ebb9ed0b9",
   "outputs": [
    {
     "name": "stdout",
     "output_type": "stream",
     "text": [
      "Epoch 1/10\n"
     ]
    },
    {
     "name": "stderr",
     "output_type": "stream",
     "text": [
      "C:\\Users\\firas\\miniconda3\\Lib\\site-packages\\keras\\src\\layers\\convolutional\\base_conv.py:99: UserWarning: Do not pass an `input_shape`/`input_dim` argument to a layer. When using Sequential models, prefer using an `Input(shape)` object as the first layer in the model instead.\n",
      "  super().__init__(\n"
     ]
    },
    {
     "name": "stdout",
     "output_type": "stream",
     "text": [
      "\u001B[1m138/300\u001B[0m \u001B[32m━━━━━━━━━\u001B[0m\u001B[37m━━━━━━━━━━━\u001B[0m \u001B[1m1:43\u001B[0m 638ms/step - accuracy: 0.7600 - loss: 3.5824"
     ]
    }
   ],
   "execution_count": null
  },
  {
   "metadata": {},
   "cell_type": "markdown",
   "source": "## model evaluation",
   "id": "28abb1065e0c7443"
  },
  {
   "metadata": {
    "jupyter": {
     "is_executing": true
    }
   },
   "cell_type": "code",
   "source": "print_model_error_rate(smallModel, X_test, y_test)",
   "id": "749f83e2279a7d3c",
   "outputs": [],
   "execution_count": null
  },
  {
   "metadata": {},
   "cell_type": "markdown",
   "source": "# get data minist with normalisation :",
   "id": "9e2137247cf743bd"
  },
  {
   "metadata": {
    "jupyter": {
     "is_executing": true
    }
   },
   "cell_type": "code",
   "source": [
    "def get_data_mnist():\n",
    "  (X_train, y_train), (X_test, y_test) = mnist.load_data()\n",
    "  # reshape to be [samples][pixels][width][height]\n",
    "  X_train = X_train.reshape(X_train.shape[0], 1, 28, 28).astype('float32')\n",
    "  X_test = X_test.reshape(X_test.shape[0], 1, 28, 28).astype('float32')\n",
    "\n",
    "  # normalize inputs from 0-255 to 0-1\n",
    "  X_train = X_train / 255\n",
    "  X_test = X_test / 255\n",
    "  # one hot encode outputs\n",
    "  y_train = np_utils.to_categorical(y_train)\n",
    "  y_test = np_utils.to_categorical(y_test)\n",
    "  num_classes = y_test.shape[1]\n",
    "  return (X_train, y_train), (X_test, y_test), num_classes"
   ],
   "id": "bd335c5c58cc3ff",
   "outputs": [],
   "execution_count": null
  },
  {
   "metadata": {},
   "cell_type": "markdown",
   "source": "## small model training after normalisation :",
   "id": "4f880f8942673167"
  },
  {
   "metadata": {
    "jupyter": {
     "is_executing": true
    }
   },
   "cell_type": "code",
   "source": [
    "(X_train, y_train), (X_test, y_test), num_classes = get_data_minist()\n",
    "smallModel = small_model()\n",
    "smallModel.fit(X_train, y_train, validation_data=(X_test, y_test), epochs=10, batch_size=200)\n",
    "\n",
    "print_model_error_rate(smallModel, X_test, y_test)"
   ],
   "id": "41e23c4780d662f4",
   "outputs": [],
   "execution_count": null
  },
  {
   "metadata": {},
   "cell_type": "markdown",
   "source": "# medium model :",
   "id": "4618164b31435509"
  },
  {
   "metadata": {},
   "cell_type": "markdown",
   "source": "## definition",
   "id": "ca68ee417caeab1e"
  },
  {
   "metadata": {
    "jupyter": {
     "is_executing": true
    }
   },
   "cell_type": "code",
   "source": [
    "def medium_model():\n",
    "    # create model\n",
    "    model = Sequential()\n",
    "    model.add(Conv2D(32, (5, 5), input_shape=(1, 28, 28), activation='relu'))\n",
    "    model.add(MaxPooling2D(pool_size=(2, 2)))\n",
    "    model.add(Dropout(0.2))\n",
    "    model.add(Flatten())\n",
    "    model.add(Dense(128, activation='relu'))\n",
    "    model.add(Dense(num_classes, activation='softmax'))\n",
    "    # Compile model\n",
    "    model.compile(loss='categorical_crossentropy', optimizer='adam', metrics=['accuracy'])\n",
    "    return model"
   ],
   "id": "db465632642752d",
   "outputs": [],
   "execution_count": null
  },
  {
   "metadata": {},
   "cell_type": "markdown",
   "source": "## training and evaluation :",
   "id": "4a42a117bf8a545e"
  },
  {
   "metadata": {
    "jupyter": {
     "is_executing": true
    }
   },
   "cell_type": "code",
   "source": [
    "(X_train, y_train), (X_test, y_test), num_classes = get_data_minist()\n",
    "# build the model\n",
    "mediumModel = medium_model()\n",
    "# Fit the model\n",
    "mediumModel.fit(X_train, y_train, validation_data=(X_test, y_test), epochs=10, batch_size=200)\n",
    "# evaluation :\n",
    "print_model_error_rate(mediumModel, X_test, y_test)"
   ],
   "id": "158183e1c8e1d303",
   "outputs": [],
   "execution_count": null
  },
  {
   "metadata": {},
   "cell_type": "markdown",
   "source": "# large model :",
   "id": "5a2cb285456de52b"
  },
  {
   "metadata": {},
   "cell_type": "markdown",
   "source": "## training :",
   "id": "af12a95d62e415e1"
  },
  {
   "metadata": {
    "jupyter": {
     "is_executing": true
    }
   },
   "cell_type": "code",
   "source": [
    "def large_model():\n",
    "    # create model\n",
    "    model = Sequential()\n",
    "    model.add(Conv2D(30, (5, 5), input_shape=(1, 28, 28), activation='relu'))\n",
    "    model.add(MaxPooling2D(pool_size=(2, 2)))\n",
    "    model.add(Conv2D(15, (3, 3), activation='relu'))\n",
    "    model.add(MaxPooling2D(pool_size=(2, 2)))\n",
    "    model.add(Dropout(0.2))\n",
    "    model.add(Flatten())\n",
    "    model.add(Dense(128, activation='relu'))\n",
    "    model.add(Dense(50, activation='relu'))\n",
    "    model.add(Dense(num_classes, activation='softmax'))\n",
    "    # Compile model\n",
    "    model.compile(loss='categorical_crossentropy', optimizer='adam', metrics=['accuracy'])\n",
    "    return model"
   ],
   "id": "c25c070cd6862df9",
   "outputs": [],
   "execution_count": null
  },
  {
   "metadata": {},
   "cell_type": "markdown",
   "source": "## training and evaluation :",
   "id": "8fc2a24211959aa3"
  },
  {
   "metadata": {
    "jupyter": {
     "is_executing": true
    }
   },
   "cell_type": "code",
   "source": [
    "(X_train, y_train), (X_test, y_test), num_classes = get_data_minist()\n",
    "# build the model\n",
    "largeModel = large_model()\n",
    "# Fit the model\n",
    "largeModel.fit(X_train, y_train, validation_data=(X_test, y_test), epochs=10, batch_size=200)\n",
    "# evaluation :\n",
    "print_model_error_rate(largeModel, X_test, y_test)"
   ],
   "id": "51defa715b2fbc8e",
   "outputs": [],
   "execution_count": null
  },
  {
   "metadata": {},
   "cell_type": "markdown",
   "source": "# models import and export",
   "id": "87e2ef87bb336939"
  },
  {
   "metadata": {},
   "cell_type": "markdown",
   "source": "## export :",
   "id": "19bfbfa2c6663527"
  },
  {
   "metadata": {
    "jupyter": {
     "is_executing": true
    }
   },
   "cell_type": "code",
   "source": [
    "# This function saves a model on the drive using two files: a json and a h5\n",
    "def save_keras_model(model, filename):\n",
    "  # serialize model to JSON\n",
    "  model_json = model.to_json()\n",
    "  with open(filename+\".json\", \"w\") as json_file:\n",
    "    json_file.write(model_json)\n",
    "  # serialize weights to HDF5\n",
    "  model.save_weights(filename+\".h5\")\n",
    "\n",
    "save_keras_model(smallModel , \"small_model\")\n",
    "save_keras_model(mediumModel , \"medium_model\")\n",
    "save_keras_model(largeModel , \"large_model\")"
   ],
   "id": "20e10b4473a4fa62",
   "outputs": [],
   "execution_count": null
  },
  {
   "metadata": {},
   "cell_type": "markdown",
   "source": "## import :",
   "id": "b0d929e9f62a2640"
  },
  {
   "metadata": {
    "jupyter": {
     "is_executing": true
    }
   },
   "cell_type": "code",
   "source": [
    "from keras.models import model_from_json\n",
    "\n",
    "# BE CAREFUL : the model NEEDS TO BE COMPILED before any use !\n",
    "def load_keras_model(filename):\n",
    "  # load json and create model\n",
    "  json_file = open(filename+\".json\", 'r')\n",
    "  loaded_model_json = json_file.read()\n",
    "  json_file.close()\n",
    "  loaded_model = model_from_json(loaded_model_json)\n",
    "  # load weights into new model\n",
    "  loaded_model.load_weights(filename+\".h5\")\n",
    "  return loaded_model"
   ],
   "id": "168a3bc979fd00ba",
   "outputs": [],
   "execution_count": null
  },
  {
   "metadata": {},
   "cell_type": "markdown",
   "source": "## example :",
   "id": "3d895654d3fd7873"
  },
  {
   "metadata": {
    "jupyter": {
     "is_executing": true
    }
   },
   "cell_type": "code",
   "source": [
    "loaded_small_model = load_keras_model('small_model')\n",
    "loaded_medium_model = load_keras_model('medium_model')\n",
    "loaded_large_model = load_keras_model('large_model')"
   ],
   "id": "ea423d57e78b8381",
   "outputs": [],
   "execution_count": null
  }
 ],
 "metadata": {
  "kernelspec": {
   "display_name": "Python 3",
   "language": "python",
   "name": "python3"
  },
  "language_info": {
   "codemirror_mode": {
    "name": "ipython",
    "version": 2
   },
   "file_extension": ".py",
   "mimetype": "text/x-python",
   "name": "python",
   "nbconvert_exporter": "python",
   "pygments_lexer": "ipython2",
   "version": "2.7.6"
  }
 },
 "nbformat": 4,
 "nbformat_minor": 5
}
